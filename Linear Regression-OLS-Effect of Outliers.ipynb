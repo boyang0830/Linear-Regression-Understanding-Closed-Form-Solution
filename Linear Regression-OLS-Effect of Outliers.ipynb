{
 "cells": [
  {
   "cell_type": "markdown",
   "metadata": {},
   "source": [
    "# Ordinary Least Squares (OLS) Method : <font color=red> Effect of Outliers</font>\n",
    "\n",
    "\n",
    "The goal of this notebook is to observe the effect of outliers on the OLS method. \n",
    "\n",
    "Consider the \"squared average\" loss function used in the OLS method.\n",
    "\n",
    "$L(\\vec w) = \\displaystyle\\sum_{i=1}^{n} (y_i - \\vec w^T.\\vec x_i)^2$\n",
    "\n",
    "It arises naturally when we apply the Maximum Likelihood Estimation (MLE) approach to estimate the weight vector $\\vec w$ by assuming that the target variable y is distributed normally:\n",
    "\n",
    "$p(y | x) = \\frac{1}{\\sqrt{2\\pi \\sigma^2}}e^{-\\frac{(y - w^T.x)^2}{2\\sigma^2}}$\n",
    "\n",
    "Because of the **Gaussian distribution of the target**, the OLS method is not robust to outliers. The Gaussian distribution dies away too quickly (thin tail). Hence, it doesn’t associate any probability to the outliers.\n",
    "\n",
    "\n",
    "We perform two experients to illustrate the fact that OLS (or MLE with target having Gaussian distribution) doesn't provide a good estimation in presence of outliers.\n",
    "\n",
    "- Experiment 1: No Outliers\n",
    "- Experiment 2: Effect of Outliers\n",
    "\n",
    "\n",
    "For the experimentation, will use a small synthetic dataset with 1D feature. \n"
   ]
  },
  {
   "cell_type": "code",
   "execution_count": 1,
   "metadata": {
    "collapsed": false
   },
   "outputs": [],
   "source": [
    "import numpy as np\n",
    "import matplotlib.pyplot as plt\n",
    "%matplotlib inline\n",
    "from sklearn.metrics import mean_squared_error, r2_score"
   ]
  },
  {
   "cell_type": "markdown",
   "metadata": {},
   "source": [
    "## Experiment 1: No Outliers"
   ]
  },
  {
   "cell_type": "code",
   "execution_count": 10,
   "metadata": {
    "collapsed": false
   },
   "outputs": [
    {
     "name": "stdout",
     "output_type": "stream",
     "text": [
      "Weight Vectors:\n",
      " [[4.53683014]\n",
      " [3.02040712]]\n",
      "\n",
      "Mean squared error: 0.10\n",
      "\n",
      "Coefficient of determination r^2 variance score [1 is perfect prediction]: 0.97\n"
     ]
    },
    {
     "data": {
      "image/png": "[encoded data removed]",
      "text/plain": [
       "<Figure size 720x432 with 1 Axes>"
      ]
     },
     "metadata": {},
     "output_type": "display_data"
    }
   ],
   "source": [
    "# Linear Regresion: Single Feature using Normal Equation (synthetic data)\n",
    "\n",
    "\n",
    "\n",
    "np.random.seed(43)\n",
    "\n",
    "m = 20  # no. of training examples\n",
    "\n",
    "# Assume that this problem has a 1D feature matrix \"X\" \n",
    "# Create X and y vectors with m training data \n",
    "# For this toy problem, we create the training data randomly\n",
    "# Note: both X and y should be m x 1 vectors\n",
    "\n",
    "X = 2 *np.random.rand(m,1)\n",
    "\n",
    "y = 4 + 3*X + np.random.rand(m,1)\n",
    "\n",
    "\n",
    "# Add a bias term with the feature vector\n",
    "# The bias term should be 1\n",
    "X_bias = np.c_[np.ones((m,1)),X]\n",
    "\n",
    "\n",
    "# Normal Equation closed form solution (OLS) for weight vector w\n",
    "w = np.linalg.inv(X_bias.T.dot(X_bias)).dot(X_bias.T).dot(y)\n",
    "\n",
    "print(\"Weight Vectors:\\n\", w)\n",
    "\n",
    "\n",
    "# Make prediction \n",
    "y_predicted = X_bias.dot(w)\n",
    "\n",
    "\n",
    "print(\"\\nMean squared error: %.2f\"\n",
    "      % mean_squared_error(y, y_predicted))\n",
    "\n",
    "\n",
    "# Explained variance score: 1 is perfect prediction\n",
    "print(\"\\nCoefficient of determination r^2 variance score [1 is perfect prediction]: %.2f\" % r2_score(y, y_predicted))\n",
    "\n",
    "\n",
    "\n",
    "# Plot the predicted line on the training data points (X, y)\n",
    "# Step 1: define two endpoints on the x-axis\n",
    "# Step 2: add the bias term: a 2 X 1 dimensional matrix of 1s\n",
    "# Step 3: find the predicted y-values for these two x points using the theta\n",
    "\n",
    "X_endpoints = np.array([[0], [2]])\n",
    "X_endpoints_with_ones = np.c_[np.ones((2,1)),X_endpoints]\n",
    "y_endpoints_predicted = X_endpoints_with_ones.dot(w)\n",
    "\n",
    "\n",
    "\n",
    "# Draw a scatter plot\n",
    "fig = plt.figure(figsize=(10, 6))\n",
    "plt.scatter(X,y,alpha=0.9, c=\"blue\", edgecolors='none', s=20, label=\"expected\")\n",
    "plt.plot(X_endpoints, y_endpoints_predicted, \"r-\", label=\"predicted\")\n",
    "plt.xlim(0,2)\n",
    "plt.ylim(0,14)\n",
    "plt.title(\"Linear Regression (No Outlier): OLS/MLE\")\n",
    "plt.legend(loc=2)\n",
    "plt.xlabel(\"x\")\n",
    "plt.ylabel(\"y\", rotation=0)\n",
    "plt.show()"
   ]
  },
  {
   "cell_type": "markdown",
   "metadata": {},
   "source": [
    "## Experiment 2: Effect of Outliers"
   ]
  },
  {
   "cell_type": "code",
   "execution_count": 11,
   "metadata": {
    "collapsed": false
   },
   "outputs": [
    {
     "name": "stdout",
     "output_type": "stream",
     "text": [
      "Weight Vectors:\n",
      " [[17.3004916 ]\n",
      " [-0.39930011]]\n",
      "\n",
      "Mean squared error: 651.33\n",
      "\n",
      "Coefficient of determination r^2 variance score [1 is perfect prediction]: 0.00\n"
     ]
    },
    {
     "data": {
      "image/png": "[encoded data removed]",
      "text/plain": [
       "<Figure size 720x432 with 1 Axes>"
      ]
     },
     "metadata": {},
     "output_type": "display_data"
    }
   ],
   "source": [
    "# Linear Regresion: Single Feature using Normal Equation (synthetic data)\n",
    "\n",
    "\n",
    "np.random.seed(43)\n",
    "\n",
    "m1 = 20  # no. of training examples\n",
    "m2 = 3    # no. of outliers\n",
    "\n",
    "m = m1 + m2\n",
    "\n",
    "# Assume that this problem has only one feature \"X\" and a label \"y\"\n",
    "# Create X and y vectors with m training data \n",
    "# For this Toy problem, we create the training data randomly\n",
    "# Note: both X and y should be m x 1 vectors\n",
    "x1 = 2 *np.random.rand(m1,1)\n",
    "\n",
    "# These are outlier data points\n",
    "x2 = 1 *np.random.rand(m2,1)\n",
    "\n",
    "\n",
    "# Mix outliers with the dataset\n",
    "X = np.concatenate((x1, x2), axis=0)\n",
    "\n",
    "\n",
    "y1 = 4 + 3*x1 + np.random.rand(m1,1)\n",
    "y2 = 80 + 3*x2 + np.random.rand(m2,1)\n",
    "\n",
    "y = np.concatenate((y1, y2), axis=0)\n",
    "\n",
    "\n",
    "\n",
    "# Add a bias term with the feature vector\n",
    "# The bias term should be 1\n",
    "X_bias = np.c_[np.ones((m,1)),X]\n",
    "\n",
    "\n",
    "# Normal Equation closed form solution for weight vector w\n",
    "w = np.linalg.inv(X_bias.T.dot(X_bias)).dot(X_bias.T).dot(y)\n",
    "\n",
    "print(\"Weight Vectors:\\n\", w)\n",
    "\n",
    "\n",
    "# Make prediction \n",
    "y_predicted = X_bias.dot(w)\n",
    "\n",
    "\n",
    "print(\"\\nMean squared error: %.2f\"\n",
    "      % mean_squared_error(y, y_predicted))\n",
    "\n",
    "\n",
    "# Explained variance score: 1 is perfect prediction\n",
    "print(\"\\nCoefficient of determination r^2 variance score [1 is perfect prediction]: %.2f\" % r2_score(y, y_predicted))\n",
    "\n",
    "\n",
    "\n",
    "# Plot the predicted line on the training data points (X, y)\n",
    "# Step 1: define two endpoints on the x-axis\n",
    "# Step 2: add the bias term: a 2 X 1 dimensonal matrix of 1s\n",
    "# Step 3: find the predicted y-values for these two x points using the theta\n",
    "\n",
    "X_endpoints = np.array([[0], [2]])\n",
    "X_endpoints_with_ones = np.c_[np.ones((2,1)),X_endpoints]\n",
    "y_endpoints_predicted = X_endpoints_with_ones.dot(w)\n",
    "\n",
    "\n",
    "\n",
    "# Draw a scatter plot\n",
    "fig = plt.figure(figsize=(10, 6))\n",
    "plt.scatter(x1,y1,alpha=0.9, c=\"blue\", edgecolors='none', s=20, label=\"expected\")\n",
    "plt.scatter(x2,y2,alpha=1.0, c=\"green\", edgecolors='none', s=80, label=\"outliers\")\n",
    "plt.plot(X_endpoints, y_endpoints_predicted, \"r-\", label=\"predicted\")\n",
    "# plt.xlim(0,2)\n",
    "# plt.ylim(0,14)\n",
    "plt.title(\"Linear Regression (Outliers): OLS/MLE\")\n",
    "plt.legend(loc='best')\n",
    "plt.xlabel(\"x\")\n",
    "plt.ylabel(\"y\", rotation=0)\n",
    "plt.show()\n"
   ]
  }
 ],
 "metadata": {
  "anaconda-cloud": {},
  "kernelspec": {
   "display_name": "Python [conda root]",
   "language": "python",
   "name": "conda-root-py"
  },
  "language_info": {
   "codemirror_mode": {
    "name": "ipython",
    "version": 3
   },
   "file_extension": ".py",
   "mimetype": "text/x-python",
   "name": "python",
   "nbconvert_exporter": "python",
   "pygments_lexer": "ipython3",
   "version": "3.5.2"
  }
 },
 "nbformat": 4,
 "nbformat_minor": 1
}
